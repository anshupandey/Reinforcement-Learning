{
  "cells": [
    {
      "cell_type": "markdown",
      "metadata": {
        "id": "view-in-github",
        "colab_type": "text"
      },
      "source": [
        "<a href=\"https://colab.research.google.com/github/anshupandey/Reinforcement-Learning/blob/main/Code_RL_Q_Learning_sample_code.ipynb\" target=\"_parent\"><img src=\"https://colab.research.google.com/assets/colab-badge.svg\" alt=\"Open In Colab\"/></a>"
      ]
    },
    {
      "cell_type": "code",
      "execution_count": 1,
      "metadata": {
        "id": "elYYYpNxijJ_"
      },
      "outputs": [],
      "source": [
        "import numpy as np"
      ]
    },
    {
      "cell_type": "code",
      "execution_count": 2,
      "metadata": {
        "id": "azBnA6m3ijKN"
      },
      "outputs": [],
      "source": [
        "# R matrix\n",
        "R = np.matrix([[-1,-1,-1,-1,0,-1],\n",
        "               [-1,-1,-1,0,-1,100],\n",
        "               [-1,-1,-1,0,-1,-1],\n",
        "               [-1,0,0,-1,0,-1],\n",
        "               [0,-1,-1,0,-1,100],\n",
        "               [-1,0,-1,-1,0,100]])"
      ]
    },
    {
      "cell_type": "code",
      "execution_count": 3,
      "metadata": {
        "id": "buh41ebeijKR"
      },
      "outputs": [],
      "source": [
        "# Q matrix\n",
        "Q = np.matrix(np.zeros((6,6)))"
      ]
    },
    {
      "cell_type": "code",
      "execution_count": 4,
      "metadata": {
        "id": "aTLiMqhYijKZ"
      },
      "outputs": [],
      "source": [
        "# Gamma\n",
        "gamma = 0.8"
      ]
    },
    {
      "cell_type": "code",
      "execution_count": 5,
      "metadata": {
        "id": "8i1RH0JOijKb"
      },
      "outputs": [],
      "source": [
        "# inital state\n",
        "initial_state = 1"
      ]
    },
    {
      "cell_type": "code",
      "execution_count": 6,
      "metadata": {
        "id": "Zc6-cWzVijKc"
      },
      "outputs": [],
      "source": [
        "# function will return all available actions in the state given as an argument\n",
        "def availale_actions(state):\n",
        "    current_state_row = R[state,]\n",
        "    av_act = np.where(current_state_row>=0)[1]\n",
        "    return av_act"
      ]
    },
    {
      "cell_type": "code",
      "execution_count": 7,
      "metadata": {
        "id": "iNvLc8cpijKf"
      },
      "outputs": [],
      "source": [
        "# get available actions in the current state\n",
        "available_act = availale_actions(initial_state)\n"
      ]
    },
    {
      "cell_type": "code",
      "execution_count": 8,
      "metadata": {
        "id": "2E0m6EK5ijKt"
      },
      "outputs": [],
      "source": [
        "# this function chooses at random which action to be performed within the range\n",
        "# of all available actions\n",
        "def sample_next_action(available_act):\n",
        "    next_action = int(np.random.choice(available_act,1))\n",
        "    return next_action"
      ]
    },
    {
      "cell_type": "code",
      "execution_count": 9,
      "metadata": {
        "id": "Hfs2vf-qijKw"
      },
      "outputs": [],
      "source": [
        "# sample next action to be performed\n",
        "action = sample_next_action(available_act)"
      ]
    },
    {
      "cell_type": "code",
      "execution_count": 10,
      "metadata": {
        "id": "QtIsuwixijK2"
      },
      "outputs": [],
      "source": [
        "def update(current_state,action,gamma):\n",
        "    max_index = np.where(Q[action,]==np.max(Q[action,]))[1]\n",
        "    if max_index.shape[0]>1:\n",
        "        max_index = int(np.random.choice(max_index,size=1))\n",
        "    else:\n",
        "        max_index = int(max_index)\n",
        "    max_value = Q[action,max_index]\n",
        "    # learning formula\n",
        "    Q[current_state,action] = R[current_state,action] + gamma*max_value\n"
      ]
    },
    {
      "cell_type": "code",
      "execution_count": 11,
      "metadata": {
        "id": "d-9Hpt2PijK4"
      },
      "outputs": [],
      "source": [
        "update(initial_state,action,gamma)"
      ]
    },
    {
      "cell_type": "code",
      "execution_count": 12,
      "metadata": {
        "colab": {
          "base_uri": "https://localhost:8080/"
        },
        "id": "RrbPJEJcijK5",
        "outputId": "ffb581ef-cc62-4cf9-8086-2c8a53632b10"
      },
      "outputs": [
        {
          "output_type": "stream",
          "name": "stdout",
          "text": [
            "Trained Q matrix\n",
            "[[  0.    0.    0.    0.   80.    0. ]\n",
            " [  0.    0.    0.   64.    0.  100. ]\n",
            " [  0.    0.    0.   64.    0.    0. ]\n",
            " [  0.   80.   51.2   0.   80.    0. ]\n",
            " [ 64.    0.    0.   64.    0.  100. ]\n",
            " [  0.   80.    0.    0.   80.  100. ]]\n"
          ]
        }
      ],
      "source": [
        "for i in range(10000):\n",
        "    current_state = np.random.randint(0,int(Q.shape[0]))\n",
        "    available_act = availale_actions(current_state)\n",
        "    action = sample_next_action(available_act)\n",
        "    update(current_state,action,gamma)\n",
        "\n",
        "# normalize the trained Q matrix\n",
        "print(\"Trained Q matrix\")\n",
        "print(Q/np.max(Q)*100)"
      ]
    },
    {
      "cell_type": "code",
      "execution_count": 13,
      "metadata": {
        "colab": {
          "base_uri": "https://localhost:8080/"
        },
        "id": "orRcGuZnijK-",
        "outputId": "66b8f6c9-6360-4957-f5da-78345fd7fff8"
      },
      "outputs": [
        {
          "output_type": "stream",
          "name": "stdout",
          "text": [
            "selected path \n",
            "[1, 5]\n"
          ]
        }
      ],
      "source": [
        "# testing \n",
        "# goal_state =5\n",
        "# best sequence path starting from 2->2,3,1,5\n",
        "current_state = 1\n",
        "steps = [current_state]\n",
        "while current_state!=5:\n",
        "    next_step_index = np.where(Q[current_state,]==np.max(Q[current_state,]))[1]\n",
        "    if next_step_index[0]>1:\n",
        "        next_step_index = int(np.random.choice(next_step_index,size=1))\n",
        "    else:\n",
        "        next_step_index = int(next_step_index)\n",
        "    steps.append(next_step_index)\n",
        "    current_state = next_step_index\n",
        "    \n",
        "# print selection sequence of steps\n",
        "print(\"selected path \")\n",
        "print(steps)"
      ]
    },
    {
      "cell_type": "code",
      "execution_count": 13,
      "metadata": {
        "id": "Nv1ZKHlrijLA"
      },
      "outputs": [],
      "source": [
        ""
      ]
    }
  ],
  "metadata": {
    "kernelspec": {
      "display_name": "Python 3",
      "language": "python",
      "name": "python3"
    },
    "language_info": {
      "codemirror_mode": {
        "name": "ipython",
        "version": 3
      },
      "file_extension": ".py",
      "mimetype": "text/x-python",
      "name": "python",
      "nbconvert_exporter": "python",
      "pygments_lexer": "ipython3",
      "version": "3.6.7"
    },
    "colab": {
      "name": "Reinforcement_code_2.ipynb",
      "provenance": [],
      "include_colab_link": true
    }
  },
  "nbformat": 4,
  "nbformat_minor": 0
}