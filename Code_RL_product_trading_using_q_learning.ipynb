{
  "nbformat": 4,
  "nbformat_minor": 0,
  "metadata": {
    "colab": {
      "name": "Reinforcement_learning_product_trading_final.ipynb",
      "provenance": [],
      "collapsed_sections": [],
      "toc_visible": true,
      "include_colab_link": true
    },
    "kernelspec": {
      "name": "python3",
      "display_name": "Python 3"
    }
  },
  "cells": [
    {
      "cell_type": "markdown",
      "metadata": {
        "id": "view-in-github",
        "colab_type": "text"
      },
      "source": [
        "<a href=\"https://colab.research.google.com/github/anshupandey/Reinforcement-Learning/blob/main/Code_RL_product_trading_using_q_learning.ipynb\" target=\"_parent\"><img src=\"https://colab.research.google.com/assets/colab-badge.svg\" alt=\"Open In Colab\"/></a>"
      ]
    },
    {
      "cell_type": "code",
      "metadata": {
        "id": "gaft8Z_nYMXw"
      },
      "source": [
        "import numpy as np \n",
        "import networkx as nx \n",
        "import pandas as pd\n",
        "import matplotlib.pyplot as plt"
      ],
      "execution_count": 1,
      "outputs": []
    },
    {
      "cell_type": "code",
      "source": [
        "!wget -q https://raw.githubusercontent.com/anshupandey/Reinforcement-Learning/main/datasets/Product_profit.csv\n",
        "!wget -q https://raw.githubusercontent.com/anshupandey/Reinforcement-Learning/main/datasets/Customer_Product_Data.xlsx"
      ],
      "metadata": {
        "id": "c4ICn8-KiCQP"
      },
      "execution_count": 2,
      "outputs": []
    },
    {
      "cell_type": "code",
      "metadata": {
        "id": "3-1rpnuc6b0Q",
        "outputId": "67083ae4-cdc9-40d6-9157-96a5794b9f81",
        "colab": {
          "base_uri": "https://localhost:8080/",
          "height": 206
        }
      },
      "source": [
        "#loading the data\n",
        "df = pd.read_excel(\"Customer_Product_Data.xlsx\")\n",
        "df2 = pd.read_csv(\"Product_profit.csv\",index_col = \"Products\")\n",
        "df.head()"
      ],
      "execution_count": 3,
      "outputs": [
        {
          "output_type": "execute_result",
          "data": {
            "text/plain": [
              "         Existing Products       Purchased Products\n",
              "0         Health Insurance       Travel Credit Card\n",
              "1       Travel Credit Card  Motor Vehicle Insurance\n",
              "2  Motor Vehicle Insurance          Current Account\n",
              "3  Motor Vehicle Insurance             Vehicle Loan\n",
              "4       Travel Credit Card           Term Insurance"
            ],
            "text/html": [
              "\n",
              "  <div id=\"df-4c2b9b77-f23a-48d0-942f-e5a2cd4c3409\">\n",
              "    <div class=\"colab-df-container\">\n",
              "      <div>\n",
              "<style scoped>\n",
              "    .dataframe tbody tr th:only-of-type {\n",
              "        vertical-align: middle;\n",
              "    }\n",
              "\n",
              "    .dataframe tbody tr th {\n",
              "        vertical-align: top;\n",
              "    }\n",
              "\n",
              "    .dataframe thead th {\n",
              "        text-align: right;\n",
              "    }\n",
              "</style>\n",
              "<table border=\"1\" class=\"dataframe\">\n",
              "  <thead>\n",
              "    <tr style=\"text-align: right;\">\n",
              "      <th></th>\n",
              "      <th>Existing Products</th>\n",
              "      <th>Purchased Products</th>\n",
              "    </tr>\n",
              "  </thead>\n",
              "  <tbody>\n",
              "    <tr>\n",
              "      <th>0</th>\n",
              "      <td>Health Insurance</td>\n",
              "      <td>Travel Credit Card</td>\n",
              "    </tr>\n",
              "    <tr>\n",
              "      <th>1</th>\n",
              "      <td>Travel Credit Card</td>\n",
              "      <td>Motor Vehicle Insurance</td>\n",
              "    </tr>\n",
              "    <tr>\n",
              "      <th>2</th>\n",
              "      <td>Motor Vehicle Insurance</td>\n",
              "      <td>Current Account</td>\n",
              "    </tr>\n",
              "    <tr>\n",
              "      <th>3</th>\n",
              "      <td>Motor Vehicle Insurance</td>\n",
              "      <td>Vehicle Loan</td>\n",
              "    </tr>\n",
              "    <tr>\n",
              "      <th>4</th>\n",
              "      <td>Travel Credit Card</td>\n",
              "      <td>Term Insurance</td>\n",
              "    </tr>\n",
              "  </tbody>\n",
              "</table>\n",
              "</div>\n",
              "      <button class=\"colab-df-convert\" onclick=\"convertToInteractive('df-4c2b9b77-f23a-48d0-942f-e5a2cd4c3409')\"\n",
              "              title=\"Convert this dataframe to an interactive table.\"\n",
              "              style=\"display:none;\">\n",
              "        \n",
              "  <svg xmlns=\"http://www.w3.org/2000/svg\" height=\"24px\"viewBox=\"0 0 24 24\"\n",
              "       width=\"24px\">\n",
              "    <path d=\"M0 0h24v24H0V0z\" fill=\"none\"/>\n",
              "    <path d=\"M18.56 5.44l.94 2.06.94-2.06 2.06-.94-2.06-.94-.94-2.06-.94 2.06-2.06.94zm-11 1L8.5 8.5l.94-2.06 2.06-.94-2.06-.94L8.5 2.5l-.94 2.06-2.06.94zm10 10l.94 2.06.94-2.06 2.06-.94-2.06-.94-.94-2.06-.94 2.06-2.06.94z\"/><path d=\"M17.41 7.96l-1.37-1.37c-.4-.4-.92-.59-1.43-.59-.52 0-1.04.2-1.43.59L10.3 9.45l-7.72 7.72c-.78.78-.78 2.05 0 2.83L4 21.41c.39.39.9.59 1.41.59.51 0 1.02-.2 1.41-.59l7.78-7.78 2.81-2.81c.8-.78.8-2.07 0-2.86zM5.41 20L4 18.59l7.72-7.72 1.47 1.35L5.41 20z\"/>\n",
              "  </svg>\n",
              "      </button>\n",
              "      \n",
              "  <style>\n",
              "    .colab-df-container {\n",
              "      display:flex;\n",
              "      flex-wrap:wrap;\n",
              "      gap: 12px;\n",
              "    }\n",
              "\n",
              "    .colab-df-convert {\n",
              "      background-color: #E8F0FE;\n",
              "      border: none;\n",
              "      border-radius: 50%;\n",
              "      cursor: pointer;\n",
              "      display: none;\n",
              "      fill: #1967D2;\n",
              "      height: 32px;\n",
              "      padding: 0 0 0 0;\n",
              "      width: 32px;\n",
              "    }\n",
              "\n",
              "    .colab-df-convert:hover {\n",
              "      background-color: #E2EBFA;\n",
              "      box-shadow: 0px 1px 2px rgba(60, 64, 67, 0.3), 0px 1px 3px 1px rgba(60, 64, 67, 0.15);\n",
              "      fill: #174EA6;\n",
              "    }\n",
              "\n",
              "    [theme=dark] .colab-df-convert {\n",
              "      background-color: #3B4455;\n",
              "      fill: #D2E3FC;\n",
              "    }\n",
              "\n",
              "    [theme=dark] .colab-df-convert:hover {\n",
              "      background-color: #434B5C;\n",
              "      box-shadow: 0px 1px 3px 1px rgba(0, 0, 0, 0.15);\n",
              "      filter: drop-shadow(0px 1px 2px rgba(0, 0, 0, 0.3));\n",
              "      fill: #FFFFFF;\n",
              "    }\n",
              "  </style>\n",
              "\n",
              "      <script>\n",
              "        const buttonEl =\n",
              "          document.querySelector('#df-4c2b9b77-f23a-48d0-942f-e5a2cd4c3409 button.colab-df-convert');\n",
              "        buttonEl.style.display =\n",
              "          google.colab.kernel.accessAllowed ? 'block' : 'none';\n",
              "\n",
              "        async function convertToInteractive(key) {\n",
              "          const element = document.querySelector('#df-4c2b9b77-f23a-48d0-942f-e5a2cd4c3409');\n",
              "          const dataTable =\n",
              "            await google.colab.kernel.invokeFunction('convertToInteractive',\n",
              "                                                     [key], {});\n",
              "          if (!dataTable) return;\n",
              "\n",
              "          const docLinkHtml = 'Like what you see? Visit the ' +\n",
              "            '<a target=\"_blank\" href=https://colab.research.google.com/notebooks/data_table.ipynb>data table notebook</a>'\n",
              "            + ' to learn more about interactive tables.';\n",
              "          element.innerHTML = '';\n",
              "          dataTable['output_type'] = 'display_data';\n",
              "          await google.colab.output.renderOutput(dataTable, element);\n",
              "          const docLink = document.createElement('div');\n",
              "          docLink.innerHTML = docLinkHtml;\n",
              "          element.appendChild(docLink);\n",
              "        }\n",
              "      </script>\n",
              "    </div>\n",
              "  </div>\n",
              "  "
            ]
          },
          "metadata": {},
          "execution_count": 3
        }
      ]
    },
    {
      "cell_type": "code",
      "metadata": {
        "id": "MPzmjqy4q5k9",
        "outputId": "162f6f54-b4b9-4ae7-b884-2bc4528ebcd3",
        "colab": {
          "base_uri": "https://localhost:8080/",
          "height": 238
        }
      },
      "source": [
        "df2.head()"
      ],
      "execution_count": 4,
      "outputs": [
        {
          "output_type": "execute_result",
          "data": {
            "text/plain": [
              "                    Profit\n",
              "Products                  \n",
              "Health Insurance       100\n",
              "Travel Credit Card     250\n",
              "Term Insurance          80\n",
              "Personal Loan          320\n",
              "Vehicle Loan           120"
            ],
            "text/html": [
              "\n",
              "  <div id=\"df-bf0f40e5-98f9-48f1-a4c9-28c839fe1cd0\">\n",
              "    <div class=\"colab-df-container\">\n",
              "      <div>\n",
              "<style scoped>\n",
              "    .dataframe tbody tr th:only-of-type {\n",
              "        vertical-align: middle;\n",
              "    }\n",
              "\n",
              "    .dataframe tbody tr th {\n",
              "        vertical-align: top;\n",
              "    }\n",
              "\n",
              "    .dataframe thead th {\n",
              "        text-align: right;\n",
              "    }\n",
              "</style>\n",
              "<table border=\"1\" class=\"dataframe\">\n",
              "  <thead>\n",
              "    <tr style=\"text-align: right;\">\n",
              "      <th></th>\n",
              "      <th>Profit</th>\n",
              "    </tr>\n",
              "    <tr>\n",
              "      <th>Products</th>\n",
              "      <th></th>\n",
              "    </tr>\n",
              "  </thead>\n",
              "  <tbody>\n",
              "    <tr>\n",
              "      <th>Health Insurance</th>\n",
              "      <td>100</td>\n",
              "    </tr>\n",
              "    <tr>\n",
              "      <th>Travel Credit Card</th>\n",
              "      <td>250</td>\n",
              "    </tr>\n",
              "    <tr>\n",
              "      <th>Term Insurance</th>\n",
              "      <td>80</td>\n",
              "    </tr>\n",
              "    <tr>\n",
              "      <th>Personal Loan</th>\n",
              "      <td>320</td>\n",
              "    </tr>\n",
              "    <tr>\n",
              "      <th>Vehicle Loan</th>\n",
              "      <td>120</td>\n",
              "    </tr>\n",
              "  </tbody>\n",
              "</table>\n",
              "</div>\n",
              "      <button class=\"colab-df-convert\" onclick=\"convertToInteractive('df-bf0f40e5-98f9-48f1-a4c9-28c839fe1cd0')\"\n",
              "              title=\"Convert this dataframe to an interactive table.\"\n",
              "              style=\"display:none;\">\n",
              "        \n",
              "  <svg xmlns=\"http://www.w3.org/2000/svg\" height=\"24px\"viewBox=\"0 0 24 24\"\n",
              "       width=\"24px\">\n",
              "    <path d=\"M0 0h24v24H0V0z\" fill=\"none\"/>\n",
              "    <path d=\"M18.56 5.44l.94 2.06.94-2.06 2.06-.94-2.06-.94-.94-2.06-.94 2.06-2.06.94zm-11 1L8.5 8.5l.94-2.06 2.06-.94-2.06-.94L8.5 2.5l-.94 2.06-2.06.94zm10 10l.94 2.06.94-2.06 2.06-.94-2.06-.94-.94-2.06-.94 2.06-2.06.94z\"/><path d=\"M17.41 7.96l-1.37-1.37c-.4-.4-.92-.59-1.43-.59-.52 0-1.04.2-1.43.59L10.3 9.45l-7.72 7.72c-.78.78-.78 2.05 0 2.83L4 21.41c.39.39.9.59 1.41.59.51 0 1.02-.2 1.41-.59l7.78-7.78 2.81-2.81c.8-.78.8-2.07 0-2.86zM5.41 20L4 18.59l7.72-7.72 1.47 1.35L5.41 20z\"/>\n",
              "  </svg>\n",
              "      </button>\n",
              "      \n",
              "  <style>\n",
              "    .colab-df-container {\n",
              "      display:flex;\n",
              "      flex-wrap:wrap;\n",
              "      gap: 12px;\n",
              "    }\n",
              "\n",
              "    .colab-df-convert {\n",
              "      background-color: #E8F0FE;\n",
              "      border: none;\n",
              "      border-radius: 50%;\n",
              "      cursor: pointer;\n",
              "      display: none;\n",
              "      fill: #1967D2;\n",
              "      height: 32px;\n",
              "      padding: 0 0 0 0;\n",
              "      width: 32px;\n",
              "    }\n",
              "\n",
              "    .colab-df-convert:hover {\n",
              "      background-color: #E2EBFA;\n",
              "      box-shadow: 0px 1px 2px rgba(60, 64, 67, 0.3), 0px 1px 3px 1px rgba(60, 64, 67, 0.15);\n",
              "      fill: #174EA6;\n",
              "    }\n",
              "\n",
              "    [theme=dark] .colab-df-convert {\n",
              "      background-color: #3B4455;\n",
              "      fill: #D2E3FC;\n",
              "    }\n",
              "\n",
              "    [theme=dark] .colab-df-convert:hover {\n",
              "      background-color: #434B5C;\n",
              "      box-shadow: 0px 1px 3px 1px rgba(0, 0, 0, 0.15);\n",
              "      filter: drop-shadow(0px 1px 2px rgba(0, 0, 0, 0.3));\n",
              "      fill: #FFFFFF;\n",
              "    }\n",
              "  </style>\n",
              "\n",
              "      <script>\n",
              "        const buttonEl =\n",
              "          document.querySelector('#df-bf0f40e5-98f9-48f1-a4c9-28c839fe1cd0 button.colab-df-convert');\n",
              "        buttonEl.style.display =\n",
              "          google.colab.kernel.accessAllowed ? 'block' : 'none';\n",
              "\n",
              "        async function convertToInteractive(key) {\n",
              "          const element = document.querySelector('#df-bf0f40e5-98f9-48f1-a4c9-28c839fe1cd0');\n",
              "          const dataTable =\n",
              "            await google.colab.kernel.invokeFunction('convertToInteractive',\n",
              "                                                     [key], {});\n",
              "          if (!dataTable) return;\n",
              "\n",
              "          const docLinkHtml = 'Like what you see? Visit the ' +\n",
              "            '<a target=\"_blank\" href=https://colab.research.google.com/notebooks/data_table.ipynb>data table notebook</a>'\n",
              "            + ' to learn more about interactive tables.';\n",
              "          element.innerHTML = '';\n",
              "          dataTable['output_type'] = 'display_data';\n",
              "          await google.colab.output.renderOutput(dataTable, element);\n",
              "          const docLink = document.createElement('div');\n",
              "          docLink.innerHTML = docLinkHtml;\n",
              "          element.appendChild(docLink);\n",
              "        }\n",
              "      </script>\n",
              "    </div>\n",
              "  </div>\n",
              "  "
            ]
          },
          "metadata": {},
          "execution_count": 4
        }
      ]
    },
    {
      "cell_type": "code",
      "metadata": {
        "id": "YqfSzzYH2Mn5",
        "outputId": "1d75627e-08c9-41b7-ca58-3ac9fa36bca5",
        "colab": {
          "base_uri": "https://localhost:8080/"
        }
      },
      "source": [
        "data = np.array(df).tolist()\n",
        "data"
      ],
      "execution_count": 5,
      "outputs": [
        {
          "output_type": "execute_result",
          "data": {
            "text/plain": [
              "[['Health Insurance', 'Travel Credit Card'],\n",
              " ['Travel Credit Card', 'Motor Vehicle Insurance'],\n",
              " ['Motor Vehicle Insurance', 'Current Account'],\n",
              " ['Motor Vehicle Insurance', 'Vehicle Loan'],\n",
              " ['Travel Credit Card', 'Term Insurance'],\n",
              " ['Travel Credit Card', 'Personal Loan'],\n",
              " ['Home Loan', 'Mutual Fund Investment'],\n",
              " ['Term Insurance', 'Vehicle Loan'],\n",
              " ['Health Insurance', 'Current Account'],\n",
              " ['Current Account', 'Demat Account'],\n",
              " ['Shopping Credit Card', 'Home Loan'],\n",
              " ['Demat Account', 'Shopping Credit Card'],\n",
              " ['Travel Credit Card', 'Demat Account'],\n",
              " ['Personal Loan', 'Home Loan']]"
            ]
          },
          "metadata": {},
          "execution_count": 5
        }
      ]
    },
    {
      "cell_type": "code",
      "metadata": {
        "id": "lF4895VV-7p7",
        "colab": {
          "base_uri": "https://localhost:8080/"
        },
        "outputId": "3acadecc-28ca-4d89-ca2d-a638a82cbfef"
      },
      "source": [
        "reward = df2.to_dict()[\"Profit\"]\n",
        "reward"
      ],
      "execution_count": 6,
      "outputs": [
        {
          "output_type": "execute_result",
          "data": {
            "text/plain": [
              "{'Current Account': 150,\n",
              " 'Demat Account': 200,\n",
              " 'Health Insurance': 100,\n",
              " 'Home Loan': 220,\n",
              " 'Motor Vehicle Insurance': 85,\n",
              " 'Mutual Fund Investment': 400,\n",
              " 'Personal Loan': 320,\n",
              " 'Shopping Credit Card': 370,\n",
              " 'Term Insurance': 80,\n",
              " 'Travel Credit Card': 250,\n",
              " 'Vehicle Loan': 120}"
            ]
          },
          "metadata": {},
          "execution_count": 6
        }
      ]
    },
    {
      "cell_type": "code",
      "metadata": {
        "id": "itqZ2QjSYNi8",
        "outputId": "99b59fa1-cb73-46a6-8954-3c2841969a44",
        "colab": {
          "base_uri": "https://localhost:8080/",
          "height": 575
        }
      },
      "source": [
        "# Defining and visualising the graph\n",
        "goal = \"Mutual Fund Investment\"\n",
        "G = nx.Graph() # creating the graph object\n",
        "G.add_edges_from(data) # creating edges using data of existing product to the next product\n",
        "pos = nx.spring_layout(G)  # creating a layout\n",
        "plt.figure(figsize=(15,10))\n",
        "nx.draw_networkx_nodes(G, pos) # drawing the nodes\n",
        "nx.draw_networkx_edges(G, pos) # drawing the edges\n",
        "nx.draw_networkx_labels(G, pos) # labelling the nodes\n",
        "plt.show() "
      ],
      "execution_count": 7,
      "outputs": [
        {
          "output_type": "display_data",
          "data": {
            "text/plain": [
              "<Figure size 1080x720 with 1 Axes>"
            ],
            "image/png": "[encoded data removed]"
          },
          "metadata": {}
        }
      ]
    },
    {
      "cell_type": "code",
      "metadata": {
        "id": "e2AdaTzcRQIW"
      },
      "source": [
        "dictionary = {\"Health Insurance\":0,\"Travel Credit Card\":1,\"Term Insurance\":2,\"Personal Loan\":3,\"Vehicle Loan\":4,\"Motor Vehicle Insurance\":5,\n",
        "              \"Current Account\":6,\"Demat Account\":7,\"Shopping Credit Card\":8,\"Home Loan\":9,\"Mutual Fund Investment\":10}"
      ],
      "execution_count": 8,
      "outputs": []
    },
    {
      "cell_type": "code",
      "metadata": {
        "id": "KW6x-7Zh1ziG",
        "outputId": "1201972e-277d-4129-fef4-c4f573bdbd2d",
        "colab": {
          "base_uri": "https://localhost:8080/"
        }
      },
      "source": [
        "data_encoded = [[dictionary[i] for i in k] for k in data]\n",
        "reward_encoded = {}\n",
        "for i in reward.keys():\n",
        "  reward_encoded[dictionary[i]] = reward[i]\n",
        "print(data_encoded)\n",
        "print(reward_encoded)"
      ],
      "execution_count": 9,
      "outputs": [
        {
          "output_type": "stream",
          "name": "stdout",
          "text": [
            "[[0, 1], [1, 5], [5, 6], [5, 4], [1, 2], [1, 3], [9, 10], [2, 4], [0, 6], [6, 7], [8, 9], [7, 8], [1, 7], [3, 9]]\n",
            "{0: 100, 1: 250, 2: 80, 3: 320, 4: 120, 5: 85, 6: 150, 7: 200, 8: 370, 9: 220, 10: 400}\n"
          ]
        }
      ]
    },
    {
      "cell_type": "code",
      "metadata": {
        "id": "TNtN_IwHYXCP",
        "outputId": "893609eb-81a5-492d-c3d1-68cccb6075cf",
        "colab": {
          "base_uri": "https://localhost:8080/"
        }
      },
      "source": [
        "# Defining the reward system for the bot\n",
        "product_num = 11\n",
        "M = np.matrix(np.ones(shape =(product_num, product_num))) \n",
        "M *= -1\n",
        "for sale in data_encoded:\n",
        "\tM[sale[0],sale[1]] = reward_encoded[sale[1]]\n",
        "\tM[sale[1],sale[0]] = reward_encoded[sale[0]]\n",
        "\tprint(sale)\n",
        " \n",
        "print(M) \n"
      ],
      "execution_count": 10,
      "outputs": [
        {
          "output_type": "stream",
          "name": "stdout",
          "text": [
            "[0, 1]\n",
            "[1, 5]\n",
            "[5, 6]\n",
            "[5, 4]\n",
            "[1, 2]\n",
            "[1, 3]\n",
            "[9, 10]\n",
            "[2, 4]\n",
            "[0, 6]\n",
            "[6, 7]\n",
            "[8, 9]\n",
            "[7, 8]\n",
            "[1, 7]\n",
            "[3, 9]\n",
            "[[ -1. 250.  -1.  -1.  -1.  -1. 150.  -1.  -1.  -1.  -1.]\n",
            " [100.  -1.  80. 320.  -1.  85.  -1. 200.  -1.  -1.  -1.]\n",
            " [ -1. 250.  -1.  -1. 120.  -1.  -1.  -1.  -1.  -1.  -1.]\n",
            " [ -1. 250.  -1.  -1.  -1.  -1.  -1.  -1.  -1. 220.  -1.]\n",
            " [ -1.  -1.  80.  -1.  -1.  85.  -1.  -1.  -1.  -1.  -1.]\n",
            " [ -1. 250.  -1.  -1. 120.  -1. 150.  -1.  -1.  -1.  -1.]\n",
            " [100.  -1.  -1.  -1.  -1.  85.  -1. 200.  -1.  -1.  -1.]\n",
            " [ -1. 250.  -1.  -1.  -1.  -1. 150.  -1. 370.  -1.  -1.]\n",
            " [ -1.  -1.  -1.  -1.  -1.  -1.  -1. 200.  -1. 220.  -1.]\n",
            " [ -1.  -1.  -1. 320.  -1.  -1.  -1.  -1. 370.  -1. 400.]\n",
            " [ -1.  -1.  -1.  -1.  -1.  -1.  -1.  -1.  -1. 220.  -1.]]\n"
          ]
        }
      ]
    },
    {
      "cell_type": "code",
      "metadata": {
        "id": "9Kzu5y1NAB0d",
        "colab": {
          "base_uri": "https://localhost:8080/",
          "height": 681
        },
        "outputId": "2ef50a2a-d9f6-43c0-c981-3704f46dd344"
      },
      "source": [
        "pd.DataFrame(M,columns=dictionary.keys(),index = dictionary.keys())"
      ],
      "execution_count": 11,
      "outputs": [
        {
          "output_type": "execute_result",
          "data": {
            "text/plain": [
              "                         Health Insurance  Travel Credit Card  Term Insurance  \\\n",
              "Health Insurance                     -1.0               250.0            -1.0   \n",
              "Travel Credit Card                  100.0                -1.0            80.0   \n",
              "Term Insurance                       -1.0               250.0            -1.0   \n",
              "Personal Loan                        -1.0               250.0            -1.0   \n",
              "Vehicle Loan                         -1.0                -1.0            80.0   \n",
              "Motor Vehicle Insurance              -1.0               250.0            -1.0   \n",
              "Current Account                     100.0                -1.0            -1.0   \n",
              "Demat Account                        -1.0               250.0            -1.0   \n",
              "Shopping Credit Card                 -1.0                -1.0            -1.0   \n",
              "Home Loan                            -1.0                -1.0            -1.0   \n",
              "Mutual Fund Investment               -1.0                -1.0            -1.0   \n",
              "\n",
              "                         Personal Loan  Vehicle Loan  Motor Vehicle Insurance  \\\n",
              "Health Insurance                  -1.0          -1.0                     -1.0   \n",
              "Travel Credit Card               320.0          -1.0                     85.0   \n",
              "Term Insurance                    -1.0         120.0                     -1.0   \n",
              "Personal Loan                     -1.0          -1.0                     -1.0   \n",
              "Vehicle Loan                      -1.0          -1.0                     85.0   \n",
              "Motor Vehicle Insurance           -1.0         120.0                     -1.0   \n",
              "Current Account                   -1.0          -1.0                     85.0   \n",
              "Demat Account                     -1.0          -1.0                     -1.0   \n",
              "Shopping Credit Card              -1.0          -1.0                     -1.0   \n",
              "Home Loan                        320.0          -1.0                     -1.0   \n",
              "Mutual Fund Investment            -1.0          -1.0                     -1.0   \n",
              "\n",
              "                         Current Account  Demat Account  Shopping Credit Card  \\\n",
              "Health Insurance                   150.0           -1.0                  -1.0   \n",
              "Travel Credit Card                  -1.0          200.0                  -1.0   \n",
              "Term Insurance                      -1.0           -1.0                  -1.0   \n",
              "Personal Loan                       -1.0           -1.0                  -1.0   \n",
              "Vehicle Loan                        -1.0           -1.0                  -1.0   \n",
              "Motor Vehicle Insurance            150.0           -1.0                  -1.0   \n",
              "Current Account                     -1.0          200.0                  -1.0   \n",
              "Demat Account                      150.0           -1.0                 370.0   \n",
              "Shopping Credit Card                -1.0          200.0                  -1.0   \n",
              "Home Loan                           -1.0           -1.0                 370.0   \n",
              "Mutual Fund Investment              -1.0           -1.0                  -1.0   \n",
              "\n",
              "                         Home Loan  Mutual Fund Investment  \n",
              "Health Insurance              -1.0                    -1.0  \n",
              "Travel Credit Card            -1.0                    -1.0  \n",
              "Term Insurance                -1.0                    -1.0  \n",
              "Personal Loan                220.0                    -1.0  \n",
              "Vehicle Loan                  -1.0                    -1.0  \n",
              "Motor Vehicle Insurance       -1.0                    -1.0  \n",
              "Current Account               -1.0                    -1.0  \n",
              "Demat Account                 -1.0                    -1.0  \n",
              "Shopping Credit Card         220.0                    -1.0  \n",
              "Home Loan                     -1.0                   400.0  \n",
              "Mutual Fund Investment       220.0                    -1.0  "
            ],
            "text/html": [
              "\n",
              "  <div id=\"df-cbe92158-5262-44bf-a17a-0c30431f4ad5\">\n",
              "    <div class=\"colab-df-container\">\n",
              "      <div>\n",
              "<style scoped>\n",
              "    .dataframe tbody tr th:only-of-type {\n",
              "        vertical-align: middle;\n",
              "    }\n",
              "\n",
              "    .dataframe tbody tr th {\n",
              "        vertical-align: top;\n",
              "    }\n",
              "\n",
              "    .dataframe thead th {\n",
              "        text-align: right;\n",
              "    }\n",
              "</style>\n",
              "<table border=\"1\" class=\"dataframe\">\n",
              "  <thead>\n",
              "    <tr style=\"text-align: right;\">\n",
              "      <th></th>\n",
              "      <th>Health Insurance</th>\n",
              "      <th>Travel Credit Card</th>\n",
              "      <th>Term Insurance</th>\n",
              "      <th>Personal Loan</th>\n",
              "      <th>Vehicle Loan</th>\n",
              "      <th>Motor Vehicle Insurance</th>\n",
              "      <th>Current Account</th>\n",
              "      <th>Demat Account</th>\n",
              "      <th>Shopping Credit Card</th>\n",
              "      <th>Home Loan</th>\n",
              "      <th>Mutual Fund Investment</th>\n",
              "    </tr>\n",
              "  </thead>\n",
              "  <tbody>\n",
              "    <tr>\n",
              "      <th>Health Insurance</th>\n",
              "      <td>-1.0</td>\n",
              "      <td>250.0</td>\n",
              "      <td>-1.0</td>\n",
              "      <td>-1.0</td>\n",
              "      <td>-1.0</td>\n",
              "      <td>-1.0</td>\n",
              "      <td>150.0</td>\n",
              "      <td>-1.0</td>\n",
              "      <td>-1.0</td>\n",
              "      <td>-1.0</td>\n",
              "      <td>-1.0</td>\n",
              "    </tr>\n",
              "    <tr>\n",
              "      <th>Travel Credit Card</th>\n",
              "      <td>100.0</td>\n",
              "      <td>-1.0</td>\n",
              "      <td>80.0</td>\n",
              "      <td>320.0</td>\n",
              "      <td>-1.0</td>\n",
              "      <td>85.0</td>\n",
              "      <td>-1.0</td>\n",
              "      <td>200.0</td>\n",
              "      <td>-1.0</td>\n",
              "      <td>-1.0</td>\n",
              "      <td>-1.0</td>\n",
              "    </tr>\n",
              "    <tr>\n",
              "      <th>Term Insurance</th>\n",
              "      <td>-1.0</td>\n",
              "      <td>250.0</td>\n",
              "      <td>-1.0</td>\n",
              "      <td>-1.0</td>\n",
              "      <td>120.0</td>\n",
              "      <td>-1.0</td>\n",
              "      <td>-1.0</td>\n",
              "      <td>-1.0</td>\n",
              "      <td>-1.0</td>\n",
              "      <td>-1.0</td>\n",
              "      <td>-1.0</td>\n",
              "    </tr>\n",
              "    <tr>\n",
              "      <th>Personal Loan</th>\n",
              "      <td>-1.0</td>\n",
              "      <td>250.0</td>\n",
              "      <td>-1.0</td>\n",
              "      <td>-1.0</td>\n",
              "      <td>-1.0</td>\n",
              "      <td>-1.0</td>\n",
              "      <td>-1.0</td>\n",
              "      <td>-1.0</td>\n",
              "      <td>-1.0</td>\n",
              "      <td>220.0</td>\n",
              "      <td>-1.0</td>\n",
              "    </tr>\n",
              "    <tr>\n",
              "      <th>Vehicle Loan</th>\n",
              "      <td>-1.0</td>\n",
              "      <td>-1.0</td>\n",
              "      <td>80.0</td>\n",
              "      <td>-1.0</td>\n",
              "      <td>-1.0</td>\n",
              "      <td>85.0</td>\n",
              "      <td>-1.0</td>\n",
              "      <td>-1.0</td>\n",
              "      <td>-1.0</td>\n",
              "      <td>-1.0</td>\n",
              "      <td>-1.0</td>\n",
              "    </tr>\n",
              "    <tr>\n",
              "      <th>Motor Vehicle Insurance</th>\n",
              "      <td>-1.0</td>\n",
              "      <td>250.0</td>\n",
              "      <td>-1.0</td>\n",
              "      <td>-1.0</td>\n",
              "      <td>120.0</td>\n",
              "      <td>-1.0</td>\n",
              "      <td>150.0</td>\n",
              "      <td>-1.0</td>\n",
              "      <td>-1.0</td>\n",
              "      <td>-1.0</td>\n",
              "      <td>-1.0</td>\n",
              "    </tr>\n",
              "    <tr>\n",
              "      <th>Current Account</th>\n",
              "      <td>100.0</td>\n",
              "      <td>-1.0</td>\n",
              "      <td>-1.0</td>\n",
              "      <td>-1.0</td>\n",
              "      <td>-1.0</td>\n",
              "      <td>85.0</td>\n",
              "      <td>-1.0</td>\n",
              "      <td>200.0</td>\n",
              "      <td>-1.0</td>\n",
              "      <td>-1.0</td>\n",
              "      <td>-1.0</td>\n",
              "    </tr>\n",
              "    <tr>\n",
              "      <th>Demat Account</th>\n",
              "      <td>-1.0</td>\n",
              "      <td>250.0</td>\n",
              "      <td>-1.0</td>\n",
              "      <td>-1.0</td>\n",
              "      <td>-1.0</td>\n",
              "      <td>-1.0</td>\n",
              "      <td>150.0</td>\n",
              "      <td>-1.0</td>\n",
              "      <td>370.0</td>\n",
              "      <td>-1.0</td>\n",
              "      <td>-1.0</td>\n",
              "    </tr>\n",
              "    <tr>\n",
              "      <th>Shopping Credit Card</th>\n",
              "      <td>-1.0</td>\n",
              "      <td>-1.0</td>\n",
              "      <td>-1.0</td>\n",
              "      <td>-1.0</td>\n",
              "      <td>-1.0</td>\n",
              "      <td>-1.0</td>\n",
              "      <td>-1.0</td>\n",
              "      <td>200.0</td>\n",
              "      <td>-1.0</td>\n",
              "      <td>220.0</td>\n",
              "      <td>-1.0</td>\n",
              "    </tr>\n",
              "    <tr>\n",
              "      <th>Home Loan</th>\n",
              "      <td>-1.0</td>\n",
              "      <td>-1.0</td>\n",
              "      <td>-1.0</td>\n",
              "      <td>320.0</td>\n",
              "      <td>-1.0</td>\n",
              "      <td>-1.0</td>\n",
              "      <td>-1.0</td>\n",
              "      <td>-1.0</td>\n",
              "      <td>370.0</td>\n",
              "      <td>-1.0</td>\n",
              "      <td>400.0</td>\n",
              "    </tr>\n",
              "    <tr>\n",
              "      <th>Mutual Fund Investment</th>\n",
              "      <td>-1.0</td>\n",
              "      <td>-1.0</td>\n",
              "      <td>-1.0</td>\n",
              "      <td>-1.0</td>\n",
              "      <td>-1.0</td>\n",
              "      <td>-1.0</td>\n",
              "      <td>-1.0</td>\n",
              "      <td>-1.0</td>\n",
              "      <td>-1.0</td>\n",
              "      <td>220.0</td>\n",
              "      <td>-1.0</td>\n",
              "    </tr>\n",
              "  </tbody>\n",
              "</table>\n",
              "</div>\n",
              "      <button class=\"colab-df-convert\" onclick=\"convertToInteractive('df-cbe92158-5262-44bf-a17a-0c30431f4ad5')\"\n",
              "              title=\"Convert this dataframe to an interactive table.\"\n",
              "              style=\"display:none;\">\n",
              "        \n",
              "  <svg xmlns=\"http://www.w3.org/2000/svg\" height=\"24px\"viewBox=\"0 0 24 24\"\n",
              "       width=\"24px\">\n",
              "    <path d=\"M0 0h24v24H0V0z\" fill=\"none\"/>\n",
              "    <path d=\"M18.56 5.44l.94 2.06.94-2.06 2.06-.94-2.06-.94-.94-2.06-.94 2.06-2.06.94zm-11 1L8.5 8.5l.94-2.06 2.06-.94-2.06-.94L8.5 2.5l-.94 2.06-2.06.94zm10 10l.94 2.06.94-2.06 2.06-.94-2.06-.94-.94-2.06-.94 2.06-2.06.94z\"/><path d=\"M17.41 7.96l-1.37-1.37c-.4-.4-.92-.59-1.43-.59-.52 0-1.04.2-1.43.59L10.3 9.45l-7.72 7.72c-.78.78-.78 2.05 0 2.83L4 21.41c.39.39.9.59 1.41.59.51 0 1.02-.2 1.41-.59l7.78-7.78 2.81-2.81c.8-.78.8-2.07 0-2.86zM5.41 20L4 18.59l7.72-7.72 1.47 1.35L5.41 20z\"/>\n",
              "  </svg>\n",
              "      </button>\n",
              "      \n",
              "  <style>\n",
              "    .colab-df-container {\n",
              "      display:flex;\n",
              "      flex-wrap:wrap;\n",
              "      gap: 12px;\n",
              "    }\n",
              "\n",
              "    .colab-df-convert {\n",
              "      background-color: #E8F0FE;\n",
              "      border: none;\n",
              "      border-radius: 50%;\n",
              "      cursor: pointer;\n",
              "      display: none;\n",
              "      fill: #1967D2;\n",
              "      height: 32px;\n",
              "      padding: 0 0 0 0;\n",
              "      width: 32px;\n",
              "    }\n",
              "\n",
              "    .colab-df-convert:hover {\n",
              "      background-color: #E2EBFA;\n",
              "      box-shadow: 0px 1px 2px rgba(60, 64, 67, 0.3), 0px 1px 3px 1px rgba(60, 64, 67, 0.15);\n",
              "      fill: #174EA6;\n",
              "    }\n",
              "\n",
              "    [theme=dark] .colab-df-convert {\n",
              "      background-color: #3B4455;\n",
              "      fill: #D2E3FC;\n",
              "    }\n",
              "\n",
              "    [theme=dark] .colab-df-convert:hover {\n",
              "      background-color: #434B5C;\n",
              "      box-shadow: 0px 1px 3px 1px rgba(0, 0, 0, 0.15);\n",
              "      filter: drop-shadow(0px 1px 2px rgba(0, 0, 0, 0.3));\n",
              "      fill: #FFFFFF;\n",
              "    }\n",
              "  </style>\n",
              "\n",
              "      <script>\n",
              "        const buttonEl =\n",
              "          document.querySelector('#df-cbe92158-5262-44bf-a17a-0c30431f4ad5 button.colab-df-convert');\n",
              "        buttonEl.style.display =\n",
              "          google.colab.kernel.accessAllowed ? 'block' : 'none';\n",
              "\n",
              "        async function convertToInteractive(key) {\n",
              "          const element = document.querySelector('#df-cbe92158-5262-44bf-a17a-0c30431f4ad5');\n",
              "          const dataTable =\n",
              "            await google.colab.kernel.invokeFunction('convertToInteractive',\n",
              "                                                     [key], {});\n",
              "          if (!dataTable) return;\n",
              "\n",
              "          const docLinkHtml = 'Like what you see? Visit the ' +\n",
              "            '<a target=\"_blank\" href=https://colab.research.google.com/notebooks/data_table.ipynb>data table notebook</a>'\n",
              "            + ' to learn more about interactive tables.';\n",
              "          element.innerHTML = '';\n",
              "          dataTable['output_type'] = 'display_data';\n",
              "          await google.colab.output.renderOutput(dataTable, element);\n",
              "          const docLink = document.createElement('div');\n",
              "          docLink.innerHTML = docLinkHtml;\n",
              "          element.appendChild(docLink);\n",
              "        }\n",
              "      </script>\n",
              "    </div>\n",
              "  </div>\n",
              "  "
            ]
          },
          "metadata": {},
          "execution_count": 11
        }
      ]
    },
    {
      "cell_type": "code",
      "metadata": {
        "id": "_x18jj0LYpSX",
        "outputId": "fffb4322-d842-4663-f843-8a3dec5008db",
        "colab": {
          "base_uri": "https://localhost:8080/"
        }
      },
      "source": [
        "# Defining some utility functions to be used in the training\n",
        "Q = np.matrix(np.zeros([product_num, product_num])) # creating a q matrix with all values 0\n",
        "\n",
        "gamma = 0.75\n",
        "# learning parameter \n",
        "initial_state = 1\n",
        "\n",
        "# Determines the available actions for a given state \n",
        "def available_actions(state): \n",
        "\tcurrent_state_row = M[state, ] \n",
        "\tavailable_action = np.where(current_state_row >= 0)[1] \n",
        "\treturn available_action \n",
        "\n",
        "available_action = available_actions(initial_state) \n",
        "\n",
        "# Chooses one of the available actions at random \n",
        "def sample_next_action(available_actions_range):\n",
        "\tnext_action = int(np.random.choice(available_action, 1))\n",
        "\treturn next_action \n",
        "\n",
        "\n",
        "action = sample_next_action(available_action) \n",
        "\n",
        "def update(current_state, action, gamma): \n",
        "\tmax_index = np.where(Q[action, ] == np.max(Q[action, ]))[1]\n",
        "\tif max_index.shape[0] > 1:\n",
        "\t\tmax_index = int(np.random.choice(max_index, size = 1))\n",
        "\telse:\n",
        "\t\tmax_index = int(max_index)\n",
        "\tmax_value = Q[action, max_index]\n",
        "\tQ[current_state, action] = M[current_state, action] + gamma * max_value # Bellman Equation to update the Q Matrix\n",
        "\tif (np.max(Q) > 0):\n",
        "\t\treturn(np.sum(Q / np.max(Q)*100))\n",
        "\telse:\n",
        "\t\treturn (0) \n",
        "# Updates the Q-Matrix according to the path chosen \n",
        "\n",
        "update(initial_state, action, gamma) \n"
      ],
      "execution_count": 12,
      "outputs": [
        {
          "output_type": "execute_result",
          "data": {
            "text/plain": [
              "100.0"
            ]
          },
          "metadata": {},
          "execution_count": 12
        }
      ]
    },
    {
      "cell_type": "code",
      "metadata": {
        "id": "IjkF6gPKA_tY",
        "colab": {
          "base_uri": "https://localhost:8080/"
        },
        "outputId": "58aa800b-7ee2-446c-abb7-980a4c73f1f4"
      },
      "source": [
        "available_actions(5)"
      ],
      "execution_count": 13,
      "outputs": [
        {
          "output_type": "execute_result",
          "data": {
            "text/plain": [
              "array([1, 4, 6])"
            ]
          },
          "metadata": {},
          "execution_count": 13
        }
      ]
    },
    {
      "cell_type": "code",
      "metadata": {
        "id": "lLEQefy_Y1zT",
        "outputId": "66e2d26d-0d1b-4337-ef8b-4b9d044db9eb",
        "colab": {
          "base_uri": "https://localhost:8080/",
          "height": 279
        }
      },
      "source": [
        "# Training and evaluating the bot using the Q-Matrix\n",
        "scores = [] \n",
        "for i in range(1000): \n",
        "\tcurrent_state = np.random.randint(0, int(Q.shape[0])) \n",
        "\tavailable_action = available_actions(current_state) \n",
        "\taction = sample_next_action(available_action) \n",
        "\tscore = update(current_state, action, gamma) \n",
        "\tscores.append(score) \n",
        "\n",
        "# print(\"Trained Q matrix:\") \n",
        "# print(Q / np.max(Q)*100) \n",
        "# You can uncomment the above two lines to view the trained Q matrix \n",
        "\n",
        "plt.plot(scores) \n",
        "plt.xlabel('No of iterations') \n",
        "plt.ylabel('Reward gained') \n",
        "plt.show() \n"
      ],
      "execution_count": 14,
      "outputs": [
        {
          "output_type": "display_data",
          "data": {
            "text/plain": [
              "<Figure size 432x288 with 1 Axes>"
            ],
            "image/png": "[encoded data removed]"
          },
          "metadata": {
            "needs_background": "light"
          }
        }
      ]
    },
    {
      "cell_type": "code",
      "metadata": {
        "id": "9sEOwNhLH0Hu",
        "outputId": "a1c33a8a-cbfe-43c4-b781-fdb39822af07",
        "colab": {
          "base_uri": "https://localhost:8080/"
        }
      },
      "source": [
        "# Testing \n",
        "# Product Recommendation\n",
        "dictionary2 = {v: k for k, v in dictionary.items()}\n",
        "def recommend(current_product,goal_product):\n",
        "  \"\"\"\n",
        "  Enter the current_product and goal_product from below:\n",
        "  ['Health Insurance', 'Travel Credit Card', 'Term Insurance', 'Personal Loan', 'Vehicle Loan', 'Motor Vehicle Insurance', 'Current Account', 'Demat Account', 'Shopping Credit Card', 'Home Loan', 'Mutual Fund Investment']\n",
        "  \"\"\"\n",
        "  current_product,goal_product = dictionary[current_product], dictionary[goal_product]\n",
        "  steps = [current_product] \n",
        "  while current_product != goal_product:\n",
        "    next_step_index = np.where(Q[current_product, ] == np.max(Q[current_product, ]))[1]\n",
        "    if next_step_index.shape[0] > 1:\n",
        "      next_step_index = int(np.random.choice(next_step_index, size = 1))\n",
        "    else:\n",
        "      next_step_index = int(next_step_index)\n",
        "    steps.append(next_step_index)\n",
        "    current_product = next_step_index\n",
        "  steps = [dictionary2[i] for i in steps]\n",
        "  return steps\n",
        "\n",
        "sale_strategy = recommend(current_product=\"Term Insurance\",goal_product='Mutual Fund Investment')\n",
        "print(\"Most efficient path:\") \n",
        "print(sale_strategy)\n"
      ],
      "execution_count": 15,
      "outputs": [
        {
          "output_type": "stream",
          "name": "stdout",
          "text": [
            "Most efficient path:\n",
            "['Term Insurance', 'Travel Credit Card', 'Personal Loan', 'Home Loan', 'Mutual Fund Investment']\n"
          ]
        }
      ]
    },
    {
      "cell_type": "code",
      "metadata": {
        "id": "gPCFE3a9H9AW"
      },
      "source": [
        ""
      ],
      "execution_count": null,
      "outputs": []
    }
  ]
}